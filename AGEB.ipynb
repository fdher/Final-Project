{
 "cells": [
  {
   "cell_type": "markdown",
   "metadata": {},
   "source": [
    "## Data exploration and Random Forest Classifier for hit and run accidentes in Mexico City"
   ]
  },
  {
   "cell_type": "markdown",
   "metadata": {},
   "source": [
    "Data ranges for accidentes during 2018 - 2019"
   ]
  },
  {
   "cell_type": "code",
   "execution_count": 1,
   "metadata": {},
   "outputs": [],
   "source": [
    "import pandas as pd\n",
    "import numpy as np\n",
    "import matplotlib.pyplot as plt\n",
    "from sklearn.preprocessing import LabelEncoder\n",
    "from sklearn.model_selection import train_test_split\n",
    "from imblearn.over_sampling import SMOTE\n",
    "from sklearn.ensemble import RandomForestClassifier\n",
    "from sklearn.metrics import accuracy_score\n",
    "from sklearn.metrics import precision_score\n",
    "from sklearn.metrics import recall_score\n",
    "from sklearn.metrics import f1_score\n",
    "from sklearn.preprocessing import StandardScaler\n",
    "import seaborn as sns\n",
    "from imblearn.over_sampling import SMOTE"
   ]
  },
  {
   "cell_type": "code",
   "execution_count": 2,
   "metadata": {},
   "outputs": [],
   "source": [
    "data_raw = pd.read_csv('df_long_anual_2018.csv')"
   ]
  },
  {
   "cell_type": "markdown",
   "metadata": {},
   "source": [
    "Data set exploration"
   ]
  },
  {
   "cell_type": "code",
   "execution_count": 3,
   "metadata": {},
   "outputs": [
    {
     "data": {
      "text/plain": [
       "Index(['...1', 'esq_id', 'año', 'int_seg', 'avenida', 'clave_esq', 'via_1',\n",
       "       'via_2', 'cantidad_AGEB', 'CVE_ENT', 'CVE_MUN', 'CVE_LOC', 'CVE_AGEB',\n",
       "       'area', 'perimeter', 'cod_ageb', 'pob_tot', 'pob_15_64', 'PEA',\n",
       "       'p_ocup', 'p_desocup', 't_desocup', 'rez_soc', 'n_rez_soc', 'esc_prom',\n",
       "       'no_atr', 'sum_lesi', 'sum_occi', 'sum_afec', 'luz_sol', 'alcaldia',\n",
       "       'colonia', 'tipo_int', 'prioridad', 'num_prior'],\n",
       "      dtype='object')"
      ]
     },
     "execution_count": 3,
     "metadata": {},
     "output_type": "execute_result"
    }
   ],
   "source": [
    "data_raw.columns"
   ]
  },
  {
   "cell_type": "code",
   "execution_count": 4,
   "metadata": {},
   "outputs": [
    {
     "data": {
      "text/plain": [
       "CUAUHTEMOC             596\n",
       "IZTAPALAPA             426\n",
       "GUSTAVO A MADERO       385\n",
       "MIGUEL HIDALGO         277\n",
       "BENITO JUAREZ          258\n",
       "COYOACAN               252\n",
       "ALVARO OBREGON         224\n",
       "VENUSTIANO CARRANZA    192\n",
       "IZTACALCO              176\n",
       "XOCHIMILCO             149\n",
       "AZCAPOTZALCO           147\n",
       "TLALPAN                146\n",
       "TLAHUAC                 77\n",
       "MAGDALENA CONTRERAS     54\n",
       "CUAJIMALPA              46\n",
       "MILPA ALTA              16\n",
       "Name: alcaldia, dtype: int64"
      ]
     },
     "execution_count": 4,
     "metadata": {},
     "output_type": "execute_result"
    }
   ],
   "source": [
    "data_raw.alcaldia.value_counts()"
   ]
  },
  {
   "cell_type": "code",
   "execution_count": 5,
   "metadata": {},
   "outputs": [
    {
     "data": {
      "text/plain": [
       "...1                 0\n",
       "esq_id               0\n",
       "año                  0\n",
       "int_seg              0\n",
       "avenida              0\n",
       "clave_esq            0\n",
       "via_1               17\n",
       "via_2               29\n",
       "cantidad_AGEB        0\n",
       "CVE_ENT             15\n",
       "CVE_MUN             15\n",
       "CVE_LOC             15\n",
       "CVE_AGEB            15\n",
       "area                15\n",
       "perimeter           15\n",
       "cod_ageb            15\n",
       "pob_tot             15\n",
       "pob_15_64           15\n",
       "PEA                 26\n",
       "p_ocup              26\n",
       "p_desocup          333\n",
       "t_desocup           15\n",
       "rez_soc             84\n",
       "n_rez_soc           84\n",
       "esc_prom            15\n",
       "no_atr               0\n",
       "sum_lesi             0\n",
       "sum_occi             0\n",
       "sum_afec             0\n",
       "luz_sol          86471\n",
       "alcaldia         86469\n",
       "colonia          86469\n",
       "tipo_int         86469\n",
       "prioridad        86469\n",
       "num_prior        86469\n",
       "dtype: int64"
      ]
     },
     "execution_count": 5,
     "metadata": {},
     "output_type": "execute_result"
    }
   ],
   "source": [
    "data_raw.isnull().sum()"
   ]
  },
  {
   "cell_type": "markdown",
   "metadata": {},
   "source": [
    "Since we're doing a data set exploration for hit n runs, we're dropping columns and adjusting data that is not revelant to the current analysis."
   ]
  },
  {
   "cell_type": "code",
   "execution_count": 6,
   "metadata": {},
   "outputs": [],
   "source": [
    "rem = ['prioridad','num_prior','colonia','luz_sol','esq_id','cantidad_AGEB','CVE_ENT','CVE_MUN','CVE_LOC','CVE_AGEB','area','via_1','via_2','int_seg','año','clave_esq','...1','rez_soc','perimeter','cod_ageb','p_desocup'\n",
    ",'t_desocup','pob_15_64','alcaldia','tipo_int']"
   ]
  },
  {
   "cell_type": "code",
   "execution_count": 7,
   "metadata": {},
   "outputs": [],
   "source": [
    "data_raw_clean = data_raw.drop(columns = rem)"
   ]
  },
  {
   "cell_type": "markdown",
   "metadata": {},
   "source": [
    "We define an ocupation rate, it'll be important for our classification model, but in short, t_ocup is a variable that represents the number of people with jobs over an echonomical active population."
   ]
  },
  {
   "cell_type": "code",
   "execution_count": 8,
   "metadata": {},
   "outputs": [],
   "source": [
    "data_raw_clean['t_ocup'] = data_raw_clean.p_ocup / data_raw_clean.PEA"
   ]
  },
  {
   "cell_type": "code",
   "execution_count": 9,
   "metadata": {},
   "outputs": [],
   "source": [
    "data_raw_clean.drop(columns=['sum_afec','PEA','p_ocup','pob_tot'], inplace=True)"
   ]
  },
  {
   "cell_type": "code",
   "execution_count": 10,
   "metadata": {},
   "outputs": [
    {
     "data": {
      "text/plain": [
       "0     86469\n",
       "1      2768\n",
       "2       452\n",
       "3       120\n",
       "4        47\n",
       "5        13\n",
       "6        10\n",
       "10        3\n",
       "8         3\n",
       "7         3\n",
       "11        1\n",
       "9         1\n",
       "Name: no_atr, dtype: int64"
      ]
     },
     "execution_count": 10,
     "metadata": {},
     "output_type": "execute_result"
    }
   ],
   "source": [
    "data_raw_clean.no_atr.value_counts()"
   ]
  },
  {
   "cell_type": "code",
   "execution_count": 11,
   "metadata": {},
   "outputs": [],
   "source": [
    "data_target = data_raw_clean[data_raw_clean['no_atr']<=6]"
   ]
  },
  {
   "cell_type": "code",
   "execution_count": 12,
   "metadata": {},
   "outputs": [],
   "source": [
    "data_raw_clean = data_raw_clean[(data_raw_clean['no_atr'] <= 6) & (data_raw_clean['no_atr'] > 0)]"
   ]
  },
  {
   "cell_type": "code",
   "execution_count": 13,
   "metadata": {},
   "outputs": [
    {
     "data": {
      "text/plain": [
       "(3410, 7)"
      ]
     },
     "execution_count": 13,
     "metadata": {},
     "output_type": "execute_result"
    }
   ],
   "source": [
    "data_raw_clean.shape"
   ]
  },
  {
   "cell_type": "markdown",
   "metadata": {},
   "source": [
    "Null analyisis and fill"
   ]
  },
  {
   "cell_type": "code",
   "execution_count": 14,
   "metadata": {},
   "outputs": [
    {
     "data": {
      "text/plain": [
       "avenida      0\n",
       "n_rez_soc    4\n",
       "esc_prom     0\n",
       "no_atr       0\n",
       "sum_lesi     0\n",
       "sum_occi     0\n",
       "t_ocup       5\n",
       "dtype: int64"
      ]
     },
     "execution_count": 14,
     "metadata": {},
     "output_type": "execute_result"
    }
   ],
   "source": [
    "data_raw_clean.isnull().sum()"
   ]
  },
  {
   "cell_type": "code",
   "execution_count": 15,
   "metadata": {},
   "outputs": [],
   "source": [
    "data_raw_clean.n_rez_soc.fillna(data_raw_clean.n_rez_soc.mean(),inplace=True)"
   ]
  },
  {
   "cell_type": "code",
   "execution_count": 16,
   "metadata": {},
   "outputs": [
    {
     "data": {
      "text/plain": [
       "avenida      0\n",
       "n_rez_soc    0\n",
       "esc_prom     0\n",
       "no_atr       0\n",
       "sum_lesi     0\n",
       "sum_occi     0\n",
       "t_ocup       5\n",
       "dtype: int64"
      ]
     },
     "execution_count": 16,
     "metadata": {},
     "output_type": "execute_result"
    }
   ],
   "source": [
    "data_raw_clean.isnull().sum()"
   ]
  },
  {
   "cell_type": "code",
   "execution_count": 17,
   "metadata": {},
   "outputs": [],
   "source": [
    "data_raw_clean.t_ocup.fillna(data_raw_clean.t_ocup.mean(),inplace=True)"
   ]
  },
  {
   "cell_type": "code",
   "execution_count": 18,
   "metadata": {},
   "outputs": [],
   "source": [
    "data_raw_clean = data_raw_clean.reset_index(drop = True)"
   ]
  },
  {
   "cell_type": "code",
   "execution_count": 19,
   "metadata": {},
   "outputs": [
    {
     "data": {
      "text/html": [
       "<div>\n",
       "<style scoped>\n",
       "    .dataframe tbody tr th:only-of-type {\n",
       "        vertical-align: middle;\n",
       "    }\n",
       "\n",
       "    .dataframe tbody tr th {\n",
       "        vertical-align: top;\n",
       "    }\n",
       "\n",
       "    .dataframe thead th {\n",
       "        text-align: right;\n",
       "    }\n",
       "</style>\n",
       "<table border=\"1\" class=\"dataframe\">\n",
       "  <thead>\n",
       "    <tr style=\"text-align: right;\">\n",
       "      <th></th>\n",
       "      <th>avenida</th>\n",
       "      <th>n_rez_soc</th>\n",
       "      <th>esc_prom</th>\n",
       "      <th>no_atr</th>\n",
       "      <th>sum_lesi</th>\n",
       "      <th>sum_occi</th>\n",
       "      <th>t_ocup</th>\n",
       "    </tr>\n",
       "  </thead>\n",
       "  <tbody>\n",
       "    <tr>\n",
       "      <th>0</th>\n",
       "      <td>1</td>\n",
       "      <td>1.0</td>\n",
       "      <td>9.2800</td>\n",
       "      <td>3</td>\n",
       "      <td>3</td>\n",
       "      <td>0</td>\n",
       "      <td>0.951491</td>\n",
       "    </tr>\n",
       "    <tr>\n",
       "      <th>1</th>\n",
       "      <td>1</td>\n",
       "      <td>1.0</td>\n",
       "      <td>9.8960</td>\n",
       "      <td>2</td>\n",
       "      <td>2</td>\n",
       "      <td>0</td>\n",
       "      <td>0.960632</td>\n",
       "    </tr>\n",
       "    <tr>\n",
       "      <th>2</th>\n",
       "      <td>1</td>\n",
       "      <td>1.0</td>\n",
       "      <td>11.4725</td>\n",
       "      <td>3</td>\n",
       "      <td>3</td>\n",
       "      <td>0</td>\n",
       "      <td>0.957820</td>\n",
       "    </tr>\n",
       "    <tr>\n",
       "      <th>3</th>\n",
       "      <td>1</td>\n",
       "      <td>1.0</td>\n",
       "      <td>10.2450</td>\n",
       "      <td>2</td>\n",
       "      <td>3</td>\n",
       "      <td>0</td>\n",
       "      <td>0.950019</td>\n",
       "    </tr>\n",
       "    <tr>\n",
       "      <th>4</th>\n",
       "      <td>1</td>\n",
       "      <td>1.0</td>\n",
       "      <td>12.6400</td>\n",
       "      <td>6</td>\n",
       "      <td>6</td>\n",
       "      <td>0</td>\n",
       "      <td>0.967009</td>\n",
       "    </tr>\n",
       "    <tr>\n",
       "      <th>...</th>\n",
       "      <td>...</td>\n",
       "      <td>...</td>\n",
       "      <td>...</td>\n",
       "      <td>...</td>\n",
       "      <td>...</td>\n",
       "      <td>...</td>\n",
       "      <td>...</td>\n",
       "    </tr>\n",
       "    <tr>\n",
       "      <th>3405</th>\n",
       "      <td>0</td>\n",
       "      <td>1.0</td>\n",
       "      <td>11.1850</td>\n",
       "      <td>1</td>\n",
       "      <td>1</td>\n",
       "      <td>0</td>\n",
       "      <td>0.960730</td>\n",
       "    </tr>\n",
       "    <tr>\n",
       "      <th>3406</th>\n",
       "      <td>0</td>\n",
       "      <td>1.0</td>\n",
       "      <td>11.1900</td>\n",
       "      <td>1</td>\n",
       "      <td>1</td>\n",
       "      <td>0</td>\n",
       "      <td>0.942857</td>\n",
       "    </tr>\n",
       "    <tr>\n",
       "      <th>3407</th>\n",
       "      <td>0</td>\n",
       "      <td>1.0</td>\n",
       "      <td>9.0600</td>\n",
       "      <td>1</td>\n",
       "      <td>1</td>\n",
       "      <td>0</td>\n",
       "      <td>0.899654</td>\n",
       "    </tr>\n",
       "    <tr>\n",
       "      <th>3408</th>\n",
       "      <td>1</td>\n",
       "      <td>1.0</td>\n",
       "      <td>10.0300</td>\n",
       "      <td>1</td>\n",
       "      <td>1</td>\n",
       "      <td>0</td>\n",
       "      <td>0.941124</td>\n",
       "    </tr>\n",
       "    <tr>\n",
       "      <th>3409</th>\n",
       "      <td>1</td>\n",
       "      <td>1.0</td>\n",
       "      <td>10.8820</td>\n",
       "      <td>1</td>\n",
       "      <td>1</td>\n",
       "      <td>0</td>\n",
       "      <td>0.949802</td>\n",
       "    </tr>\n",
       "  </tbody>\n",
       "</table>\n",
       "<p>3410 rows × 7 columns</p>\n",
       "</div>"
      ],
      "text/plain": [
       "      avenida  n_rez_soc  esc_prom  no_atr  sum_lesi  sum_occi    t_ocup\n",
       "0           1        1.0    9.2800       3         3         0  0.951491\n",
       "1           1        1.0    9.8960       2         2         0  0.960632\n",
       "2           1        1.0   11.4725       3         3         0  0.957820\n",
       "3           1        1.0   10.2450       2         3         0  0.950019\n",
       "4           1        1.0   12.6400       6         6         0  0.967009\n",
       "...       ...        ...       ...     ...       ...       ...       ...\n",
       "3405        0        1.0   11.1850       1         1         0  0.960730\n",
       "3406        0        1.0   11.1900       1         1         0  0.942857\n",
       "3407        0        1.0    9.0600       1         1         0  0.899654\n",
       "3408        1        1.0   10.0300       1         1         0  0.941124\n",
       "3409        1        1.0   10.8820       1         1         0  0.949802\n",
       "\n",
       "[3410 rows x 7 columns]"
      ]
     },
     "execution_count": 19,
     "metadata": {},
     "output_type": "execute_result"
    }
   ],
   "source": [
    "data_raw_clean"
   ]
  },
  {
   "cell_type": "markdown",
   "metadata": {},
   "source": [
    "Data scaling and dropping of columns that won't be necessary for evaluating the model"
   ]
  },
  {
   "cell_type": "code",
   "execution_count": 32,
   "metadata": {},
   "outputs": [],
   "source": [
    "data_raw_clean_model1 = data_raw_clean.drop(columns=['sum_occi','sum_lesi','no_atr'])"
   ]
  },
  {
   "cell_type": "code",
   "execution_count": 33,
   "metadata": {},
   "outputs": [],
   "source": [
    "scaler = StandardScaler()"
   ]
  },
  {
   "cell_type": "code",
   "execution_count": 34,
   "metadata": {},
   "outputs": [],
   "source": [
    "momo = scaler.fit(data_raw_clean_model1)"
   ]
  },
  {
   "cell_type": "code",
   "execution_count": 35,
   "metadata": {},
   "outputs": [],
   "source": [
    "data_scaled = momo.transform(data_raw_clean_model1)"
   ]
  },
  {
   "cell_type": "code",
   "execution_count": 36,
   "metadata": {},
   "outputs": [
    {
     "data": {
      "text/html": [
       "<div>\n",
       "<style scoped>\n",
       "    .dataframe tbody tr th:only-of-type {\n",
       "        vertical-align: middle;\n",
       "    }\n",
       "\n",
       "    .dataframe tbody tr th {\n",
       "        vertical-align: top;\n",
       "    }\n",
       "\n",
       "    .dataframe thead th {\n",
       "        text-align: right;\n",
       "    }\n",
       "</style>\n",
       "<table border=\"1\" class=\"dataframe\">\n",
       "  <thead>\n",
       "    <tr style=\"text-align: right;\">\n",
       "      <th></th>\n",
       "      <th>avenida</th>\n",
       "      <th>n_rez_soc</th>\n",
       "      <th>esc_prom</th>\n",
       "      <th>t_ocup</th>\n",
       "    </tr>\n",
       "  </thead>\n",
       "  <tbody>\n",
       "    <tr>\n",
       "      <th>0</th>\n",
       "      <td>1</td>\n",
       "      <td>1.0</td>\n",
       "      <td>9.2800</td>\n",
       "      <td>0.951491</td>\n",
       "    </tr>\n",
       "    <tr>\n",
       "      <th>1</th>\n",
       "      <td>1</td>\n",
       "      <td>1.0</td>\n",
       "      <td>9.8960</td>\n",
       "      <td>0.960632</td>\n",
       "    </tr>\n",
       "    <tr>\n",
       "      <th>2</th>\n",
       "      <td>1</td>\n",
       "      <td>1.0</td>\n",
       "      <td>11.4725</td>\n",
       "      <td>0.957820</td>\n",
       "    </tr>\n",
       "    <tr>\n",
       "      <th>3</th>\n",
       "      <td>1</td>\n",
       "      <td>1.0</td>\n",
       "      <td>10.2450</td>\n",
       "      <td>0.950019</td>\n",
       "    </tr>\n",
       "    <tr>\n",
       "      <th>4</th>\n",
       "      <td>1</td>\n",
       "      <td>1.0</td>\n",
       "      <td>12.6400</td>\n",
       "      <td>0.967009</td>\n",
       "    </tr>\n",
       "    <tr>\n",
       "      <th>...</th>\n",
       "      <td>...</td>\n",
       "      <td>...</td>\n",
       "      <td>...</td>\n",
       "      <td>...</td>\n",
       "    </tr>\n",
       "    <tr>\n",
       "      <th>3405</th>\n",
       "      <td>0</td>\n",
       "      <td>1.0</td>\n",
       "      <td>11.1850</td>\n",
       "      <td>0.960730</td>\n",
       "    </tr>\n",
       "    <tr>\n",
       "      <th>3406</th>\n",
       "      <td>0</td>\n",
       "      <td>1.0</td>\n",
       "      <td>11.1900</td>\n",
       "      <td>0.942857</td>\n",
       "    </tr>\n",
       "    <tr>\n",
       "      <th>3407</th>\n",
       "      <td>0</td>\n",
       "      <td>1.0</td>\n",
       "      <td>9.0600</td>\n",
       "      <td>0.899654</td>\n",
       "    </tr>\n",
       "    <tr>\n",
       "      <th>3408</th>\n",
       "      <td>1</td>\n",
       "      <td>1.0</td>\n",
       "      <td>10.0300</td>\n",
       "      <td>0.941124</td>\n",
       "    </tr>\n",
       "    <tr>\n",
       "      <th>3409</th>\n",
       "      <td>1</td>\n",
       "      <td>1.0</td>\n",
       "      <td>10.8820</td>\n",
       "      <td>0.949802</td>\n",
       "    </tr>\n",
       "  </tbody>\n",
       "</table>\n",
       "<p>3410 rows × 4 columns</p>\n",
       "</div>"
      ],
      "text/plain": [
       "      avenida  n_rez_soc  esc_prom    t_ocup\n",
       "0           1        1.0    9.2800  0.951491\n",
       "1           1        1.0    9.8960  0.960632\n",
       "2           1        1.0   11.4725  0.957820\n",
       "3           1        1.0   10.2450  0.950019\n",
       "4           1        1.0   12.6400  0.967009\n",
       "...       ...        ...       ...       ...\n",
       "3405        0        1.0   11.1850  0.960730\n",
       "3406        0        1.0   11.1900  0.942857\n",
       "3407        0        1.0    9.0600  0.899654\n",
       "3408        1        1.0   10.0300  0.941124\n",
       "3409        1        1.0   10.8820  0.949802\n",
       "\n",
       "[3410 rows x 4 columns]"
      ]
     },
     "execution_count": 36,
     "metadata": {},
     "output_type": "execute_result"
    }
   ],
   "source": [
    "df_data_scaled = pd.DataFrame(data_raw_clean_model1)\n",
    "df_data_scaled"
   ]
  },
  {
   "cell_type": "markdown",
   "metadata": {},
   "source": [
    "Beggining training test split for Random Forest"
   ]
  },
  {
   "cell_type": "code",
   "execution_count": 48,
   "metadata": {},
   "outputs": [],
   "source": [
    "X_train1, X_test1, Y_train1, Y_test1 = train_test_split(data_scaled,data_raw_clean.no_atr, random_state = 42, test_size=0.20)"
   ]
  },
  {
   "cell_type": "code",
   "execution_count": 44,
   "metadata": {},
   "outputs": [],
   "source": [
    "over = SMOTE()"
   ]
  },
  {
   "cell_type": "code",
   "execution_count": 45,
   "metadata": {},
   "outputs": [],
   "source": [
    "X_train1, Y_train1 = over.fit_resample(X_train1, Y_train1)"
   ]
  },
  {
   "cell_type": "markdown",
   "metadata": {},
   "source": [
    "Key part of the code: searching for optimal hyperparameters with RandomizedSearchCV"
   ]
  },
  {
   "cell_type": "code",
   "execution_count": 49,
   "metadata": {},
   "outputs": [
    {
     "name": "stdout",
     "output_type": "stream",
     "text": [
      "{'n_estimators': 800, 'max_depth': 10}\n"
     ]
    }
   ],
   "source": [
    "from sklearn.ensemble import RandomForestClassifier\n",
    "from sklearn.metrics import plot_confusion_matrix \n",
    "from sklearn.model_selection import RandomizedSearchCV\n",
    "\n",
    "model=RandomForestClassifier()\n",
    "distributions = dict(n_estimators = list(range(100,1001,100)),\n",
    "                     max_depth = list(range(10,200,10))),\n",
    "best_params = RandomizedSearchCV(model,distributions,random_state=0)\n",
    "params = best_params.fit(X_train1,Y_train1)\n",
    "print(params.best_params_)"
   ]
  },
  {
   "cell_type": "code",
   "execution_count": 50,
   "metadata": {},
   "outputs": [
    {
     "name": "stdout",
     "output_type": "stream",
     "text": [
      "Accuracy score : 0.84\n",
      "Recall score : 0.71\n"
     ]
    },
    {
     "name": "stderr",
     "output_type": "stream",
     "text": [
      "c:\\Users\\fhernandezcortez\\Anaconda3\\lib\\site-packages\\sklearn\\utils\\deprecation.py:87: FutureWarning: Function plot_confusion_matrix is deprecated; Function `plot_confusion_matrix` is deprecated in 1.0 and will be removed in 1.2. Use one of the class methods: ConfusionMatrixDisplay.from_predictions or ConfusionMatrixDisplay.from_estimator.\n",
      "  warnings.warn(msg, category=FutureWarning)\n"
     ]
    },
    {
     "data": {
      "image/png": "[encoded data removed]",
      "text/plain": [
       "<Figure size 640x480 with 2 Axes>"
      ]
     },
     "metadata": {},
     "output_type": "display_data"
    }
   ],
   "source": [
    "model=RandomForestClassifier(n_estimators=params.best_params_['n_estimators'],max_depth=params.best_params_['max_depth'])\n",
    "model.fit(X_train1,Y_train1)\n",
    "YPred1 = model.predict(X_test1)\n",
    "print(\"Accuracy score : {:.2f}\".format(accuracy_score(YPred1,Y_test1)))\n",
    "print(\"Recall score : {:.2f}\".format(recall_score(YPred1,Y_test1,average='macro',zero_division=True)))\n",
    "disp = plot_confusion_matrix(model,X_test1,Y_test1)\n",
    "plt.show()"
   ]
  },
  {
   "cell_type": "code",
   "execution_count": 52,
   "metadata": {},
   "outputs": [
    {
     "data": {
      "text/plain": [
       "<AxesSubplot:>"
      ]
     },
     "execution_count": 52,
     "metadata": {},
     "output_type": "execute_result"
    },
    {
     "data": {
      "image/png": "[encoded data removed]",
      "text/plain": [
       "<Figure size 700x600 with 1 Axes>"
      ]
     },
     "metadata": {},
     "output_type": "display_data"
    }
   ],
   "source": [
    "feature_importances = pd.Series(model.feature_importances_, index= data_raw_clean_model1.columns)\n",
    "feature_importances.sort_values(ascending = True)\n",
    "feature_importances.plot(kind = 'barh', figsize =(7,6))"
   ]
  },
  {
   "cell_type": "code",
   "execution_count": 63,
   "metadata": {},
   "outputs": [
    {
     "data": {
      "text/plain": [
       "0.8553054662379421"
      ]
     },
     "execution_count": 63,
     "metadata": {},
     "output_type": "execute_result"
    }
   ],
   "source": [
    "data_raw_clean_model1.t_ocup.min()"
   ]
  },
  {
   "cell_type": "markdown",
   "metadata": {},
   "source": [
    "Feature importances and export into CSV for data showing in Tableu"
   ]
  },
  {
   "cell_type": "code",
   "execution_count": 60,
   "metadata": {},
   "outputs": [],
   "source": [
    "feature_importances.to_csv('feature_importances.csv')"
   ]
  },
  {
   "cell_type": "code",
   "execution_count": 58,
   "metadata": {},
   "outputs": [
    {
     "name": "stdout",
     "output_type": "stream",
     "text": [
      "Avenida : 0.10\n",
      "Rezagues social : 0.03\n",
      "Escolaridad promedio : 0.42\n",
      "Tasa de ocupacion : 0.45\n"
     ]
    }
   ],
   "source": [
    "print(\"Avenida : {:.2f}\".format(feature_importances[0]))\n",
    "print(\"Rezagues social : {:.2f}\".format(feature_importances[1]))\n",
    "print(\"Escolaridad promedio : {:.2f}\".format(feature_importances[2]))\n",
    "print(\"Tasa de ocupacion : {:.2f}\".format(feature_importances[-1]))"
   ]
  }
 ],
 "metadata": {
  "kernelspec": {
   "display_name": "Python 3.9.12 ('base')",
   "language": "python",
   "name": "python3"
  },
  "language_info": {
   "codemirror_mode": {
    "name": "ipython",
    "version": 3
   },
   "file_extension": ".py",
   "mimetype": "text/x-python",
   "name": "python",
   "nbconvert_exporter": "python",
   "pygments_lexer": "ipython3",
   "version": "3.9.12"
  },
  "orig_nbformat": 4,
  "vscode": {
   "interpreter": {
    "hash": "aa312d4c887fa677f565e7f94d25e9c28ea5c2a3c7d98c86ca69bb28e8416d37"
   }
  }
 },
 "nbformat": 4,
 "nbformat_minor": 2
}
